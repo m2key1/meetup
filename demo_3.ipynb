{
 "cells": [
  {
   "cell_type": "code",
   "execution_count": 1,
   "id": "cf8bd765",
   "metadata": {},
   "outputs": [],
   "source": [
    "from utils.llm_utils import perform_ocr\n",
    "from IPython.display import display, Markdown\n",
    "\n",
    "from utils.prompts import OCR_PROMPT"
   ]
  },
  {
   "cell_type": "code",
   "execution_count": 2,
   "id": "de37d8dd",
   "metadata": {},
   "outputs": [],
   "source": [
    "HOST = '192.168.0.252'\n",
    "# HOST = 'localhost'"
   ]
  },
  {
   "cell_type": "code",
   "execution_count": 3,
   "id": "e11db837",
   "metadata": {},
   "outputs": [],
   "source": [
    "output = perform_ocr(image_path='input/test_01.png', prompt=OCR_PROMPT, host=HOST)"
   ]
  },
  {
   "cell_type": "code",
   "execution_count": 5,
   "id": "f9614215",
   "metadata": {},
   "outputs": [
    {
     "name": "stdout",
     "output_type": "stream",
     "text": [
      "# AS-506\n",
      "\n",
      "## Mission Summary\n",
      "\n",
      "This document is prepared jointly by the Marshall Space Flight Center Laboratories S&E-ASTR-S, S&E-AERO-P, and S&E-ASTN-ESD. The document presents a brief and concise description of the AS-506 Apollo Saturn Space Vehicle and the AS-506 mission. Where necessary, for clarification, additional related information has been included.\n",
      "\n",
      "It is not intended that this document completely define the Space Vehicle, its systems or subsystems in detail. The information presented herein by text and sketches, describe launch preparation, ground support activities, and the space vehicle. This information permit the reader to follow the sequence of events beginning a few hours before liftoff to mission completion.\n",
      "\n",
      "### 1. Mission Purpose\n",
      "\n",
      "AS-506, Apollo 11, Mission G-1, is the first manned Lunar Landing Mission. It uses Launch Vehicle SA-506; Command/Service Module 107, Lunar Module 5; Launch Complex 39A; Mobile Launcher #1 and LCC Firing Room #1.\n",
      "\n",
      "- Purpose is (1) to perform a successful lunar landing\n",
      "- (2) assess the capabilities and limitations of the astronauts and their equipment in a lunar surface environment\n",
      "- (3) perform insertion of the lunar module and obtain soil samples, and\n",
      "- (4) to safely return the crew to earth. The crew consists of Neil A. Armstrong, Spacecraft Commander, Edwin E. Aldrin, Lunar Module Pilot, and Michael Collins, Command Module Pilot.\n",
      "\n",
      "### 2. Launch Vehicle Objectives\n",
      "\n",
      "Demonstrate launch vehicle capability to inject the spacecraft onto a free-return, translunar trajectory.\n",
      "\n",
      "### 3. Mission Description\n",
      "\n",
      "AS-506 (Apollo 11), has a flight duration of approximately 8 days.\n",
      "\n",
      "The AS-506 mission profile, illustrated in Figures 2 through 5, consists of the following phases: Launch and boost to earth parking orbit, coast in earth parking orbit, translunar injection, translunar coast, S-IVB \"slingshot\", lunar orbit insertion, lunar module descent, lunar surface activities, lunar module ascent, transearth injection, transearth coast, reentry, splashdown and recovery.\n",
      "\n",
      "Launch and Boost to Earth Parking Orbit (EPO). AS-506 will be launched from Kennedy Space Center, Complex 39A on a launch azimuth of 90° East of North. The launch days and the earliest liftoff time, for each day, for the month of July are:\n",
      "\n",
      "| Day       | Earliest Liftoff Time | Flight Azimuth |\n",
      "|-----------|-----------------------|-----------------|\n",
      "| July 16   | 8:32 a.m. CDT         | 72° - 108°      |\n",
      "| July 18   | 10:30 a.m. CDT        | 80° - 108°      |\n",
      "| July 21   | 11:09 a.m. CDT        | 94° - 108°      |\n"
     ]
    }
   ],
   "source": [
    "print(output)\n",
    "\n",
    "#display(Markdown(output))"
   ]
  },
  {
   "cell_type": "code",
   "execution_count": null,
   "id": "69058115",
   "metadata": {},
   "outputs": [],
   "source": []
  }
 ],
 "metadata": {
  "kernelspec": {
   "display_name": ".venv",
   "language": "python",
   "name": "python3"
  },
  "language_info": {
   "codemirror_mode": {
    "name": "ipython",
    "version": 3
   },
   "file_extension": ".py",
   "mimetype": "text/x-python",
   "name": "python",
   "nbconvert_exporter": "python",
   "pygments_lexer": "ipython3",
   "version": "3.13.5"
  }
 },
 "nbformat": 4,
 "nbformat_minor": 5
}

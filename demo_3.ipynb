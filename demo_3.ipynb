{
 "cells": [
  {
   "cell_type": "code",
   "execution_count": 1,
   "id": "cf8bd765",
   "metadata": {},
   "outputs": [],
   "source": [
    "from utils.llm_utils import perform_ocr\n",
    "from IPython.display import display, Markdown\n",
    "\n",
    "from utils.prompts import OCR_PROMPT"
   ]
  },
  {
   "cell_type": "code",
   "execution_count": 2,
   "id": "de37d8dd",
   "metadata": {},
   "outputs": [],
   "source": [
    "HOST = '192.168.0.252'\n",
    "# HOST = 'localhost'"
   ]
  },
  {
   "cell_type": "code",
   "execution_count": 10,
   "id": "e11db837",
   "metadata": {},
   "outputs": [],
   "source": [
    "output = perform_ocr(image_path='input/test_01.png', prompt=OCR_PROMPT, host=HOST)"
   ]
  },
  {
   "cell_type": "code",
   "execution_count": 11,
   "id": "f9614215",
   "metadata": {},
   "outputs": [
    {
     "data": {
      "text/markdown": [
       "# Annual Return of a One-Participant (Owners/Partners and Their Spouses) Retirement Plan or a Foreign Plan\n",
       "\n",
       "**Form Number:** *CA530082*\n",
       "\n",
       "**Form 5500-EZ**\n",
       "\n",
       "**Department of the Treasury**\n",
       "\n",
       "**Internal Revenue Service**\n",
       "\n",
       "**OMB No. 1545-1610**\n",
       "\n",
       "**2023**\n",
       "\n",
       "This form is required to be filed under section 6058(a) of the Internal Revenue Code. See the instructions for Form 5500-EZ. Complete all entries in accordance with the instructions to the Form 5500-EZ. Go to www.irs.gov/Form5500EZ for instructions and the latest information.\n",
       "\n",
       "This Form is Open to Public Inspection\n",
       "\n",
       "## Part I: Annual Return Identification Information\n",
       "\n",
       "For the calendar plan year 2023 or fiscal plan year beginning (MM/DD/YYYY) 01/02/2023 and ending 01/02/2023\n",
       "\n",
       "- (1) This return is: [X] The first return filed for the plan\n",
       "- (2) An amended return\n",
       "- (3) The final return filed for the plan\n",
       "- (4) A short plan year return (less than 12 months)\n",
       "- (5) Check box if filing under Form 5558\n",
       "  - [ ] Automatic extension\n",
       "  - [ ] Special extension (enter description)\n",
       "- (6) If this return is for a foreign plan, check this box (see instructions)\n",
       "- (7) If this return is for the IRS Leaning to the IRS Pre-approved Plan Program, check this box (Must be filed on a paper Form with the IRS. See instructions)\n",
       "- (8) If this is a retroactively adopted plan permitted by SECURE Act section 201, check here\n",
       "\n",
       "## Part II: Basic Plan Information — enter all requested information\n",
       "\n",
       "1a. Name of plan: *Annual Return plan*\n",
       "\n",
       "1b. Three-digit plan number (PN): 586\n",
       "\n",
       "1c. Date plan first became effective (MM/DD/YYYY): 02/05/2022\n",
       "\n",
       "2a. Employer's name: *Acme Corp Software*\n",
       "\n",
       "2b. Employer Identification Number (EIN) (Do not enter your Social Security Number): 73 526 8329\n",
       "\n",
       "2c. Employer's telephone number: 011 536 259\n",
       "\n",
       "2d. Business code (see instructions):\n",
       "\n",
       "Mailing address (room, apt., suite no. and street, or P.O. box): 235 Park Street Avenue, FL 63052\n",
       "\n",
       "City or town, state or province, country, and ZIP or foreign postal code (if foreign, see instructions):\n",
       "\n",
       "3a. Plan administrator's name (if same as employer, enter \"Same\"): \n",
       "\n",
       "3b. Administrator's EIN: 532678\n",
       "\n",
       "3c. Administrator's telephone number:\n",
       "\n",
       "Mailing address (room, apt., suite no. and street, or P.O. box):\n",
       "\n",
       "City or town, state or province, country, and ZIP or foreign postal code (if foreign, see instructions):\n",
       "\n",
       "4. If the employer's name, the employer's EIN, and/or the plan name has changed since the last return filed for this plan, enter the employer's name and EIN, the plan name, and the plan number for the last return in the appropriate space provided\n",
       "\n",
       "4a. Employer's name:\n",
       "\n",
       "4b. EIN: 5732900\n",
       "\n",
       "4c. Plan name:\n",
       "\n",
       "4d. PN:\n",
       "\n",
       "5a(1). Total number of participants at the beginning of the plan year: 10\n",
       "\n",
       "5a(2). Total number of active participants at the beginning of the plan year: 8\n",
       "\n",
       "5b(1). Total number of participants at the end of the plan year: 5\n",
       "\n",
       "5b(2). Total number of active participants at the end of the plan year:\n",
       "\n",
       "5c. Number of participants who terminated employment during the plan year with accrued benefits that were less than 100% vested: 2\n",
       "\n",
       "## Part III: Financial Information\n",
       "\n",
       "6a. Total plan assets:\n",
       "\n",
       "- (1) Beginning of year: $50000\n",
       "- (2) End of year: $60000\n",
       "\n",
       "6b. Total plan liabilities:\n",
       "\n",
       "- (1) Beginning of year: $4000\n",
       "- (2) End of year: $5000\n",
       "\n",
       "6c. Net plan assets (subtract line 6b from 6a):"
      ],
      "text/plain": [
       "<IPython.core.display.Markdown object>"
      ]
     },
     "metadata": {},
     "output_type": "display_data"
    }
   ],
   "source": [
    "display(Markdown(output))"
   ]
  },
  {
   "cell_type": "code",
   "execution_count": null,
   "id": "69058115",
   "metadata": {},
   "outputs": [],
   "source": []
  }
 ],
 "metadata": {
  "kernelspec": {
   "display_name": ".venv",
   "language": "python",
   "name": "python3"
  },
  "language_info": {
   "codemirror_mode": {
    "name": "ipython",
    "version": 3
   },
   "file_extension": ".py",
   "mimetype": "text/x-python",
   "name": "python",
   "nbconvert_exporter": "python",
   "pygments_lexer": "ipython3",
   "version": "3.13.5"
  }
 },
 "nbformat": 4,
 "nbformat_minor": 5
}
